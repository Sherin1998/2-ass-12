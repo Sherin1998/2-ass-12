{
 "cells": [
  {
   "cell_type": "markdown",
   "metadata": {},
   "source": [
    "#1\n",
    "\n",
    "Strings are immutable entity in python.They cant be altered by index values unlike lists.Assigning value by indices is not possible.Only way to change a character is to make a new string with cahnged character where the orginal strig is intact."
   ]
  },
  {
   "cell_type": "markdown",
   "metadata": {},
   "source": [
    "#2\n",
    "\n",
    "No,strings can be conctinated where individual strings are joined to form a new string.This does not violate the immutability as orginal strings are unchanged.The property is violated only if the the individual string is altered.\n",
    "\n",
    "\n",
    "eg:    s='Ineuron'\n",
    "       k='Data'\n",
    "       print(s+k)\n",
    "       s[2]='w'    #ERROR"
   ]
  },
  {
   "cell_type": "code",
   "execution_count": 10,
   "metadata": {},
   "outputs": [
    {
     "name": "stdout",
     "output_type": "stream",
     "text": [
      "r\n",
      "l\n",
      "c\n"
     ]
    }
   ],
   "source": [
    "#3\n",
    "a='crocodile'\n",
    "print(a[1])     #Index values,positive indexing\n",
    "print(a[-2])    #Index values,negative indexing\n",
    "print(a[:2:2])   #slicing\n"
   ]
  },
  {
   "cell_type": "code",
   "execution_count": null,
   "metadata": {},
   "outputs": [],
   "source": [
    "#4\n",
    "Both indexing and slicing are used to access elements of a string.Indexing uses index values to print character stored at that index.Both positive and negative indexing can be used to access characters.\n",
    "\n",
    "Slicing operation returns sequence of characters and uses start index,stop index and step size.The step size can be changed to the pattern of the string to be printed."
   ]
  },
  {
   "cell_type": "markdown",
   "metadata": {},
   "source": [
    "#5\n",
    "Indexed characters data type is same as the orginal string datatype and is not changed.Slicing generated datatype is same as the orginal datatype."
   ]
  },
  {
   "cell_type": "code",
   "execution_count": 11,
   "metadata": {},
   "outputs": [
    {
     "ename": "TypeError",
     "evalue": "'int' object is not subscriptable",
     "output_type": "error",
     "traceback": [
      "\u001b[1;31m---------------------------------------------------------------------------\u001b[0m",
      "\u001b[1;31mTypeError\u001b[0m                                 Traceback (most recent call last)",
      "\u001b[1;32m<ipython-input-11-33fa796ecf75>\u001b[0m in \u001b[0;36m<module>\u001b[1;34m\u001b[0m\n\u001b[0;32m      1\u001b[0m \u001b[0mx\u001b[0m\u001b[1;33m=\u001b[0m\u001b[1;36m10001\u001b[0m\u001b[1;33m\u001b[0m\u001b[1;33m\u001b[0m\u001b[0m\n\u001b[1;32m----> 2\u001b[1;33m \u001b[0mx\u001b[0m\u001b[1;33m[\u001b[0m\u001b[1;36m2\u001b[0m\u001b[1;33m]\u001b[0m\u001b[1;33m\u001b[0m\u001b[1;33m\u001b[0m\u001b[0m\n\u001b[0m",
      "\u001b[1;31mTypeError\u001b[0m: 'int' object is not subscriptable"
     ]
    }
   ],
   "source": [
    "#6\n",
    "Anything enclosed in single or double quotes is string.These can be alphabets,special characters,numbers etc.1 byte of memory is allocated by compiler.\n",
    "Strings are made up of individual characters"
   ]
  },
  {
   "cell_type": "code",
   "execution_count": 12,
   "metadata": {},
   "outputs": [
    {
     "name": "stdout",
     "output_type": "stream",
     "text": [
      "Hello World\n"
     ]
    }
   ],
   "source": [
    "#7\n",
    "s='Qwerty'\n",
    "a='asdfg'\n",
    "d=s+a                                        # + operator\n",
    "print(d)\n",
    "print(\"%s %s\" % (\"Hello\", \"World\"))          # % operator\n",
    "\n",
    "s.join(a)                                    #.join()\n"
   ]
  },
  {
   "cell_type": "code",
   "execution_count": 14,
   "metadata": {},
   "outputs": [
    {
     "data": {
      "text/plain": [
       "'aQwertysQwertydQwertyfQwertyg'"
      ]
     },
     "execution_count": 14,
     "metadata": {},
     "output_type": "execute_result"
    }
   ],
   "source": [
    "#8 \n",
    "Saves time in searching for substring in large strings."
   ]
  },
  {
   "cell_type": "code",
   "execution_count": 25,
   "metadata": {},
   "outputs": [
    {
     "name": "stdout",
     "output_type": "stream",
     "text": [
      "False\n",
      "True\n",
      "False\n",
      "True\n"
     ]
    }
   ],
   "source": [
    "#9\n",
    "s='Sherin'\n",
    "print(s[1]=='a')          #index values and == operator\n",
    "print('S' in s)                # in operator\n",
    "\n",
    "\n",
    "a=50\n",
    "print(a>100 )                   #comparison operator\n",
    "print(a > 30 or b < 45)         #OR operator\n",
    "\n",
    "\n",
    "    "
   ]
  },
  {
   "cell_type": "code",
   "execution_count": 21,
   "metadata": {},
   "outputs": [
    {
     "data": {
      "text/plain": [
       "0"
      ]
     },
     "execution_count": 21,
     "metadata": {},
     "output_type": "execute_result"
    }
   ],
   "source": []
  },
  {
   "cell_type": "code",
   "execution_count": null,
   "metadata": {},
   "outputs": [],
   "source": []
  }
 ],
 "metadata": {
  "kernelspec": {
   "display_name": "Python 3",
   "language": "python",
   "name": "python3"
  },
  "language_info": {
   "codemirror_mode": {
    "name": "ipython",
    "version": 3
   },
   "file_extension": ".py",
   "mimetype": "text/x-python",
   "name": "python",
   "nbconvert_exporter": "python",
   "pygments_lexer": "ipython3",
   "version": "3.8.3"
  }
 },
 "nbformat": 4,
 "nbformat_minor": 4
}
